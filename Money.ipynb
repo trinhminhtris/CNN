{
  "nbformat": 4,
  "nbformat_minor": 0,
  "metadata": {
    "colab": {
      "private_outputs": true,
      "provenance": [],
      "mount_file_id": "1_oMpC9JlMqBoCsZawrtBpz7exvh59S4K",
      "authorship_tag": "ABX9TyN/gzPnBsVkrSLbGexYRONp",
      "include_colab_link": true
    },
    "kernelspec": {
      "name": "python3",
      "display_name": "Python 3"
    },
    "language_info": {
      "name": "python"
    },
    "accelerator": "GPU",
    "gpuClass": "standard"
  },
  "cells": [
    {
      "cell_type": "markdown",
      "metadata": {
        "id": "view-in-github",
        "colab_type": "text"
      },
      "source": [
        "<a href=\"https://colab.research.google.com/github/trinhminhtris/CNN/blob/main/Money.ipynb\" target=\"_parent\"><img src=\"https://colab.research.google.com/assets/colab-badge.svg\" alt=\"Open In Colab\"/></a>"
      ]
    },
    {
      "cell_type": "code",
      "execution_count": null,
      "metadata": {
        "id": "ZhcMxEVCVIiq"
      },
      "outputs": [],
      "source": [
        "from os import listdir\n",
        "from numpy import asarray\n",
        "from numpy import save\n",
        "from keras.utils import load_img, img_to_array\n",
        "\n",
        "folder = '/content/drive/MyDrive/AI/Money/'\n",
        "photos, labels = list(), list()\n",
        "for file in listdir(folder):\n",
        "  output = 0.0\n",
        "  if file.startswith('100 '):\n",
        "    output = 1.0\n",
        "  if file.startswith('200 '):\n",
        "    output = 2.0\n",
        "  if file.startswith('500 '):\n",
        "    output = 3.0\n",
        "  if file.startswith('1000 '):\n",
        "    output = 4.0\n",
        "  if file.startswith('2000 '):\n",
        "    output = 5.0\n",
        "  if file.startswith('5000 '):\n",
        "    output = 6.0\n",
        "  if file.startswith('10000 '):\n",
        "    output = 7.0\n",
        "  if file.startswith('20000 '):\n",
        "    output = 8.0\n",
        "  if file.startswith('50000 '):\n",
        "    output = 9.0\n",
        "  if file.startswith('100000 '):\n",
        "    output = 10.0\n",
        "  if file.startswith('200000 '):\n",
        "    output = 11.0\n",
        "  if file.startswith('500000 '):\n",
        "    output = 12.0\n",
        "  \n",
        "  img = load_img(folder + file, target_size = (300,300))\n",
        "  photo = img_to_array(img)\n",
        "  photos.append(photo)\n",
        "  labels.append(output)\n",
        "\n",
        "photos = asarray(photos)\n",
        "labels = asarray(labels)\n",
        "\n",
        "print(photos.shape,labels.shape)\n",
        "save('Money_photos_train.npy', photos)\n",
        "save('Money_labels_train.npy', labels)"
      ]
    },
    {
      "cell_type": "code",
      "source": [
        "import matplotlib.pyplot as plt\n",
        "from matplotlib.image import imread\n",
        "for i in range (15):\n",
        "  plt.subplot(5, 3, i+1)\n",
        "  filename = folder + '500000 ('+ str(i+1) + ').jpg'\n",
        "  img1 = imread(filename)\n",
        "  plt.imshow(img1)\n",
        "plt.show() "
      ],
      "metadata": {
        "id": "2SLmV9clahhr"
      },
      "execution_count": null,
      "outputs": []
    },
    {
      "cell_type": "code",
      "source": [
        "import numpy as np\n",
        "x_train = np.load('/content/drive/MyDrive/AI/Money_photos_train.npy')\n",
        "y_train = np.load('/content/drive/MyDrive/AI/Money_labels_train.npy')"
      ],
      "metadata": {
        "id": "45jB_326bLw5"
      },
      "execution_count": null,
      "outputs": []
    },
    {
      "cell_type": "code",
      "source": [
        "x_train = x_train.astype('float32')/255\n",
        "from keras.utils import to_categorical\n",
        "y_train = to_categorical(y_train, 100)"
      ],
      "metadata": {
        "id": "2mKhTN4Abgro"
      },
      "execution_count": null,
      "outputs": []
    },
    {
      "cell_type": "code",
      "source": [
        "# tiến hành tích chập\n",
        "from keras.models import Sequential\n",
        "from keras.layers import Dense,Dropout,Flatten,Conv2D,MaxPooling2D,Normalization,LeakyReLU\n",
        "from keras.optimizers import Adam\n",
        "\n",
        "#32 lần tích chập\n",
        "model = Sequential()\n",
        "model.add(Conv2D(32,kernel_size = (3,3),activation = 'relu',input_shape=(300,300,3),padding='Same'))\n",
        "model.add(MaxPooling2D((2,2),padding='same'))\n",
        "model.add(Dropout(0.25))\n",
        "\n",
        "#64 lần tích chập\n",
        "model.add(Conv2D(64,(3,3),activation ='relu',padding ='same'))\n",
        "model.add(MaxPooling2D((2,2),padding='same'))\n",
        "model.add(Dropout(0.25))\n",
        "\n",
        "#128 lần tích chập\n",
        "model.add(Conv2D(128,(3,3),activation ='relu',padding ='same'))\n",
        "model.add(MaxPooling2D((2,2),padding='same'))\n",
        "model.add(Dropout(0.25))\n",
        "\n",
        "model.add(Flatten())\n",
        "model.add(Dense(64,activation = 'relu'))\n",
        "model.add(Dropout(0.25))\n",
        "model.add(Dense(100,activation='softmax'))\n",
        "\n",
        "from keras.losses import categorical_crossentropy\n",
        "model.compile(loss = categorical_crossentropy,optimizer = Adam(),metrics=['accuracy'])\n",
        "model.summary()\n",
        "train = model.fit(x_train,y_train,batch_size=32,epochs = 100,verbose = 1)\n"
      ],
      "metadata": {
        "id": "DS6TCXyKcGoo"
      },
      "execution_count": null,
      "outputs": []
    },
    {
      "cell_type": "code",
      "source": [
        "#lưu mô hình vừa train\n",
        "model.save('money_train.h5')"
      ],
      "metadata": {
        "id": "ev0CNzCbcmMR"
      },
      "execution_count": null,
      "outputs": []
    },
    {
      "cell_type": "code",
      "source": [
        "#load mô hình \n",
        "from keras.models import load_model\n",
        "model1 = load_model('/content/drive/MyDrive/AI/money_train.h5')"
      ],
      "metadata": {
        "id": "fzhC9_S9dKTp"
      },
      "execution_count": null,
      "outputs": []
    },
    {
      "cell_type": "code",
      "source": [
        "#load ảnh và cho AI tiến hành nhận diện\n",
        "import matplotlib.pyplot as plt\n",
        "from keras.utils import load_img\n",
        "from keras.utils.image_utils import img_to_array\n",
        "import numpy as np\n",
        "\n",
        "vat = {1: '100',2:'200', 3:'500', 4:'1000',5:'2000', 6:'5000',7:'10000', \n",
        "       8:'20000',9:'50000',10:'100000', 11:'200000', 12:'500000'}\n",
        "img = load_img(\"/content/drive/MyDrive/AI/Money/200k.jpg\",target_size=(300,300))\n",
        "plt.imshow(img)\n",
        "img = img_to_array(img)\n",
        "img = img.reshape(1,300,300,3)\n",
        "img = img.astype('float32')\n",
        "img =img/255\n",
        "result  = np.argmax(model.predict(img),axis=1)\n",
        "vat[result[0]]"
      ],
      "metadata": {
        "id": "DlSXcQ25dqfe"
      },
      "execution_count": null,
      "outputs": []
    },
    {
      "cell_type": "code",
      "source": [],
      "metadata": {
        "id": "2rGbuT0DfBn1"
      },
      "execution_count": null,
      "outputs": []
    }
  ]
}