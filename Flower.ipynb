{
  "nbformat": 4,
  "nbformat_minor": 0,
  "metadata": {
    "colab": {
      "private_outputs": true,
      "provenance": [],
      "mount_file_id": "1GkyuAE3Mr3nmJSAitsa-ZvMwcDj1_wdt",
      "authorship_tag": "ABX9TyOWxfVAUaQE5DhZJjtYytl2",
      "include_colab_link": true
    },
    "kernelspec": {
      "name": "python3",
      "display_name": "Python 3"
    },
    "language_info": {
      "name": "python"
    },
    "accelerator": "GPU",
    "gpuClass": "standard"
  },
  "cells": [
    {
      "cell_type": "markdown",
      "metadata": {
        "id": "view-in-github",
        "colab_type": "text"
      },
      "source": [
        "<a href=\"https://colab.research.google.com/github/trinhminhtris/CNN/blob/main/Flower.ipynb\" target=\"_parent\"><img src=\"https://colab.research.google.com/assets/colab-badge.svg\" alt=\"Open In Colab\"/></a>"
      ]
    },
    {
      "cell_type": "code",
      "execution_count": null,
      "metadata": {
        "id": "Ni8OgsSwrpLa"
      },
      "outputs": [],
      "source": [
        "from os import listdir\n",
        "from numpy import asarray\n",
        "from numpy import save\n",
        "from keras.utils import load_img, img_to_array\n",
        "\n",
        "folder = '/content/drive/MyDrive/AI/Flower/'\n",
        "photos, labels = list(), list()\n",
        "for file in listdir(folder):\n",
        "  output = 0.0\n",
        "  if file.startswith('Roses '):\n",
        "    output = 1.0\n",
        "  if file.startswith('apricot '):\n",
        "    output = 2.0\n",
        "  if file.startswith('daisies '):\n",
        "    output = 3.0\n",
        "  if file.startswith('lily '):\n",
        "    output = 4.0\n",
        "  if file.startswith('lotus '):\n",
        "    output = 5.0\n",
        "  \n",
        "  img = load_img(folder + file, target_size = (300,300))\n",
        "  photo = img_to_array(img)\n",
        "  photos.append(photo)\n",
        "  labels.append(output)\n",
        "\n",
        "photos = asarray(photos)\n",
        "labels = asarray(labels)\n",
        "\n",
        "print(photos.shape,labels.shape)\n",
        "save('Flower_photos_train.npy', photos)\n",
        "save('Flower_labels_train.npy', labels)"
      ]
    },
    {
      "cell_type": "code",
      "source": [
        "import matplotlib.pyplot as plt\n",
        "from matplotlib.image import imread\n",
        "for i in range (15):\n",
        "  plt.subplot(19, 4, i+1)\n",
        "  filename = folder + 'Roses ('+ str(i+1) + ').jpg'\n",
        "  img1 = imread(filename)\n",
        "  plt.imshow(img1)\n",
        "plt.show() "
      ],
      "metadata": {
        "id": "2cbgUBWSuPXv"
      },
      "execution_count": null,
      "outputs": []
    },
    {
      "cell_type": "code",
      "source": [
        "import numpy as np\n",
        "x_train = np.load('/content/drive/MyDrive/AI/Flower_photos_train.npy')\n",
        "y_train = np.load('/content/drive/MyDrive/AI/Flower_labels_train.npy')"
      ],
      "metadata": {
        "id": "Q1zdSrEivMJ5"
      },
      "execution_count": null,
      "outputs": []
    },
    {
      "cell_type": "code",
      "source": [
        "x_train = x_train.astype('float32')/255\n",
        "from keras.utils import to_categorical\n",
        "y_train = to_categorical(y_train, 10)"
      ],
      "metadata": {
        "id": "b5TBD6YqvnuJ"
      },
      "execution_count": null,
      "outputs": []
    },
    {
      "cell_type": "code",
      "source": [
        "from keras.models import Sequential\n",
        "from keras.layers import Dense,Dropout,Flatten,Conv2D,MaxPooling2D,Normalization,LeakyReLU\n",
        "from keras.optimizers import Adam\n",
        "\n",
        "# 32 lan tich chap\n",
        "model = Sequential()\n",
        "model.add(Conv2D(32,kernel_size = (3,3),activation = 'relu',input_shape=(300,300,3),padding='Same'))\n",
        "model.add(MaxPooling2D((2,2),padding='same'))\n",
        "model.add(Dropout(0.25))\n",
        "\n",
        "# 64 lan tich chap\n",
        "model.add(Conv2D(64,(3,3),activation ='relu',padding ='same'))\n",
        "model.add(MaxPooling2D((2,2),padding='same'))\n",
        "model.add(Dropout(0.25))\n",
        "\n",
        "# 128 lan tich chap\n",
        "model.add(Conv2D(128,(3,3),activation ='relu',padding ='same'))\n",
        "model.add(MaxPooling2D((2,2),padding='same'))\n",
        "model.add(Dropout(0.25))\n",
        "\n",
        "# 256 lan tich chap\n",
        "model.add(Conv2D(256,(3,3),activation ='relu',padding ='same'))\n",
        "model.add(MaxPooling2D((2,2),padding='same'))\n",
        "model.add(Dropout(0.25))\n",
        "\n",
        "model.add(Flatten())\n",
        "model.add(Dense(64,activation = 'relu'))\n",
        "model.add(Dropout(0.25))\n",
        "model.add(Dense(10,activation='softmax'))\n",
        "\n",
        "from keras.losses import categorical_crossentropy\n",
        "model.compile(loss = categorical_crossentropy,optimizer = Adam(),metrics=['accuracy'])\n",
        "model.summary()\n",
        "train = model.fit(x_train, y_train,batch_size=32, epochs = 50,verbose = 1)\n",
        "\n",
        "model.save('Flower_train.h5')\n"
      ],
      "metadata": {
        "id": "wIq5vsyzvwZj"
      },
      "execution_count": null,
      "outputs": []
    },
    {
      "cell_type": "code",
      "source": [
        "from keras.models import load_model\n",
        "model1 = load_model('/content/drive/MyDrive/AI/Flower_train.h5')"
      ],
      "metadata": {
        "id": "SPKvVaJSwOGW"
      },
      "execution_count": null,
      "outputs": []
    },
    {
      "cell_type": "code",
      "source": [
        "import matplotlib.pyplot as plt\n",
        "from keras.utils import load_img\n",
        "from keras.utils.image_utils import img_to_array\n",
        "import numpy as np\n",
        "\n",
        "vat = {1: 'Roses',2:'apricot', 3:'daisies', 4:'lily', 5:'lotus' }\n",
        "img = load_img(\"/content/drive/MyDrive/AI/Flower/hoa_sen.jpg\",target_size = (300,300))\n",
        "plt.imshow(img)\n",
        "img = img_to_array(img)\n",
        "img = img.reshape(1,300,300,3)\n",
        "img = img.astype('float32')\n",
        "img = img/255\n",
        "result  = np.argmax(model.predict(img),axis=1)\n",
        "vat[result[0]]"
      ],
      "metadata": {
        "id": "7yAjiB_ZxubO"
      },
      "execution_count": null,
      "outputs": []
    },
    {
      "cell_type": "code",
      "source": [],
      "metadata": {
        "id": "gb9EltX-yDmm"
      },
      "execution_count": null,
      "outputs": []
    }
  ]
}