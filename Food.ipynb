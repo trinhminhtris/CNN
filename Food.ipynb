{
  "nbformat": 4,
  "nbformat_minor": 0,
  "metadata": {
    "colab": {
      "private_outputs": true,
      "provenance": [],
      "mount_file_id": "1s2Hb9avaBMh7e9KZlLFCz06Es9ZNG8HM",
      "authorship_tag": "ABX9TyOxQ/9ygB0hwil/Su2it5eR",
      "include_colab_link": true
    },
    "kernelspec": {
      "name": "python3",
      "display_name": "Python 3"
    },
    "language_info": {
      "name": "python"
    },
    "accelerator": "GPU",
    "gpuClass": "standard"
  },
  "cells": [
    {
      "cell_type": "markdown",
      "metadata": {
        "id": "view-in-github",
        "colab_type": "text"
      },
      "source": [
        "<a href=\"https://colab.research.google.com/github/trinhminhtris/CNN/blob/main/Food.ipynb\" target=\"_parent\"><img src=\"https://colab.research.google.com/assets/colab-badge.svg\" alt=\"Open In Colab\"/></a>"
      ]
    },
    {
      "cell_type": "code",
      "execution_count": null,
      "metadata": {
        "id": "j3DFLgFj5AUA"
      },
      "outputs": [],
      "source": [
        "from os import listdir\n",
        "from os.path import isdir\n",
        "from numpy import asarray\n",
        "from numpy import save\n",
        "from keras.utils import load_img, img_to_array\n",
        "\n",
        "folder = '/content/drive/MyDrive/AI/Food/'\n",
        "photos, labels = list(),list()\n",
        "\n",
        "for file in listdir(folder):\n",
        "  output = 0.0\n",
        "  if file.startswith('banhcanh'):\n",
        "    output = 1\n",
        "  if file.startswith('banhkhot'):\n",
        "    output = 2\n",
        "  if file.startswith('comtam'):\n",
        "    output = 3\n",
        "  if file.startswith('hutieu'):\n",
        "    output = 4\n",
        "  if file.startswith('bokho'):\n",
        "    output = 5\n",
        "  if file.startswith('banhmi'):\n",
        "    output = 6\n",
        "  if file.startswith('banhxeo'):\n",
        "    output = 7\n",
        "  if file.startswith('pho'):\n",
        "    output = 8\n",
        "  if file.startswith('bunbo'):\n",
        "    output = 9\n",
        "  if file.startswith('che'):\n",
        "    output = 10\n",
        "  img =load_img(folder+ file,target_size = (60, 80))\n",
        "  photo = img_to_array(img)\n",
        "  photos.append(photo)\n",
        "  labels.append(output)\n",
        "\n",
        "photos = asarray(photos)\n",
        "labels = asarray(labels)\n",
        "\n",
        "print(photos.shape,labels.shape)\n",
        "save('food_photos.npy',photos)\n",
        "save('food_labels.npy',labels)"
      ]
    },
    {
      "cell_type": "code",
      "source": [
        "import matplotlib.pyplot as plt\n",
        "from matplotlib.image import imread\n",
        "for i in range (15):\n",
        "  plt.subplot(19, 4, i+1)\n",
        "  filename = folder + 'pho ('+ str(i+1) + ').jpg'\n",
        "  img1 = imread(filename)\n",
        "  plt.imshow(img1)\n",
        "plt.show() "
      ],
      "metadata": {
        "id": "SBcsUxr15y4t"
      },
      "execution_count": null,
      "outputs": []
    },
    {
      "cell_type": "code",
      "source": [
        "import numpy as np\n",
        "x_train = np.load('/content/drive/MyDrive/AI/food_photos.npy')\n",
        "y_train = np.load('/content/drive/MyDrive/AI/food_labels.npy')\n",
        "print(x_train.shape)\n",
        "print(y_train.shape)\n",
        "x = x_train\n",
        "y = y_train"
      ],
      "metadata": {
        "id": "S3aiB5XD6Npl"
      },
      "execution_count": null,
      "outputs": []
    },
    {
      "cell_type": "code",
      "source": [
        "x_train = x_train.astype('float32')/255\n",
        "from keras.utils import to_categorical\n",
        "y_train = to_categorical(y_train,100)"
      ],
      "metadata": {
        "id": "qkIuXqpl6Sxc"
      },
      "execution_count": null,
      "outputs": []
    },
    {
      "cell_type": "code",
      "source": [
        "# tiến hành tích chập\n",
        "from keras.models import Sequential\n",
        "from keras.layers import Dense,Dropout,Flatten,Conv2D,MaxPooling2D,Normalization,LeakyReLU\n",
        "from keras.optimizers import Adam\n",
        "\n",
        "#32 lần tích chập\n",
        "model = Sequential()\n",
        "model.add(Conv2D(32,kernel_size = (3,3),activation = 'relu',input_shape=(60,80,3),padding='Same'))\n",
        "model.add(MaxPooling2D((2,2),padding='same'))\n",
        "model.add(Dropout(0.25))\n",
        "\n",
        "#64 lần tích chập\n",
        "model.add(Conv2D(64,(3,3),activation ='relu',padding ='same'))\n",
        "model.add(MaxPooling2D((2,2),padding='same'))\n",
        "model.add(Dropout(0.25))\n",
        "\n",
        "#128 lần tích chập\n",
        "model.add(Conv2D(128,(3,3),activation ='relu',padding ='same'))\n",
        "model.add(MaxPooling2D((2,2),padding='same'))\n",
        "model.add(Dropout(0.25))\n",
        "\n",
        "model.add(Flatten())\n",
        "model.add(Dense(64,activation = 'relu'))\n",
        "model.add(Dropout(0.25))\n",
        "model.add(Dense(100,activation='softmax'))\n",
        "\n",
        "from keras.losses import categorical_crossentropy\n",
        "model.compile(loss = categorical_crossentropy,optimizer = Adam(),metrics=['accuracy'])\n",
        "model.summary()\n",
        "train = model.fit(x_train,y_train,batch_size=32,epochs = 100,verbose = 1)\n"
      ],
      "metadata": {
        "id": "pVh2kCc-7J6k"
      },
      "execution_count": null,
      "outputs": []
    },
    {
      "cell_type": "code",
      "source": [
        "#lưu mô hình vừa train\n",
        "model.save('food_train.h5')"
      ],
      "metadata": {
        "id": "uSbvMb6W79fp"
      },
      "execution_count": null,
      "outputs": []
    },
    {
      "cell_type": "code",
      "source": [
        "#load mô hình \n",
        "from keras.models import load_model\n",
        "model1 = load_model('/content/drive/MyDrive/AI/food_train.h5')"
      ],
      "metadata": {
        "id": "Wj6OQBnp8KqJ"
      },
      "execution_count": null,
      "outputs": []
    },
    {
      "cell_type": "code",
      "source": [
        "#load ảnh và cho AI tiến hành nhận diện\n",
        "import matplotlib.pyplot as plt\n",
        "from keras.utils import load_img\n",
        "from keras.utils.image_utils import img_to_array\n",
        "import numpy as np\n",
        "\n",
        "vat = {1: 'BÁNH CANH',2:'BÁNH KHỌT', 3:'CƠM TẤM', 4:'HỦ TIẾU',5:'BÒ KHO', 6:'BÁNH MÌ',7:'BÁNH XÈO', 8:'PHỞ',9:'BÚN BÒ',10:'CHÈ'}\n",
        "img = load_img(\"/content/drive/MyDrive/AI/Food/bm1.jpg\",target_size=(60,80))\n",
        "plt.imshow(img)\n",
        "img = img_to_array(img)\n",
        "img = img.reshape(1,60,80,3)\n",
        "img = img.astype('float32')\n",
        "img =img/255\n",
        "result  = np.argmax(model.predict(img),axis=1)\n",
        "vat[result[0]]"
      ],
      "metadata": {
        "id": "Pz0ltrZE8uvb"
      },
      "execution_count": null,
      "outputs": []
    },
    {
      "cell_type": "code",
      "source": [],
      "metadata": {
        "id": "dvdigc1z9c0x"
      },
      "execution_count": null,
      "outputs": []
    }
  ]
}